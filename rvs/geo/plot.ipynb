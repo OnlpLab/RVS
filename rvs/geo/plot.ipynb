{
 "cells": [
  {
   "cell_type": "code",
   "execution_count": 1,
   "metadata": {},
   "outputs": [],
   "source": [
    "from typing import Tuple, Sequence, Optional, Dict, Text\n",
    "from json import JSONDecoder, JSONDecodeError\n",
    "import json\n",
    "import pandas as pd\n",
    "import matplotlib.pyplot as plt\n",
    "import matplotlib\n",
    "import folium\n",
    "\n",
    "import os\n",
    "import sys\n",
    "sys.path.append(os.path.dirname(os.path.dirname(os.getcwd() )))\n",
    "sys.path.append('../generation')\n",
    "sys.path.append(\"..\")\n",
    "\n",
    "import visualize\n",
    "import templates"
   ]
  },
  {
   "cell_type": "code",
   "execution_count": 2,
   "metadata": {},
   "outputs": [],
   "source": [
    "gen_templates = templates.create_templates()\n",
    "\n",
    "par_dir = os.path.abspath(os.path.join(os.getcwd(), os.pardir))\n",
    "path_manhattan =  r\"/"\n",
    "osm_maps_instructions_manhattan = visualize.get_maps_and_instructions(path_manhattan)"
   ]
  },
  {
   "cell_type": "code",
   "execution_count": 3,
   "metadata": {},
   "outputs": [
    {
     "name": "stdout",
     "output_type": "stream",
     "text": [
      "1:  (194720, 47) 1\n",
      "B:  (194720, 47)\n",
      "2:  (27360, 47)\n"
     ]
    },
    {
     "data": {
      "text/plain": [
       "'Walk past Broadway Theatre and continue to the next intersection and come to the fast food restaurant. Meet at the fast food restaurant, which is right next to an atm. If you reach place_of_worship, you have gone too far.'"
      ]
     },
     "metadata": {},
     "output_type": "display_data"
    },
    {
     "name": "stdout",
     "output_type": "stream",
     "text": [
      "1:  (194720, 47) 2\n",
      "2:  (24960, 47)\n"
     ]
    },
    {
     "data": {
      "text/plain": [
       "\"The clothes shop is the meeting point. Travel 2 intersections past Unitarian Church of All Souls. The clothes shop is not far from library. You've overshot the meeting point if you reach museum.\""
      ]
     },
     "metadata": {},
     "output_type": "display_data"
    },
    {
     "name": "stdout",
     "output_type": "stream",
     "text": [
      "1:  (194720, 47) 2\n",
      "2:  (24960, 47)\n"
     ]
    },
    {
     "data": {
      "text/plain": [
       "'Go 2 intersections past St. Vincent de Paul Church. The garden will be on your left, near a fast food restaurant. If you reach nail_salon, you have gone too far.'"
      ]
     },
     "metadata": {},
     "output_type": "display_data"
    },
    {
     "name": "stdout",
     "output_type": "stream",
     "text": [
      "1:  (194720, 47) 0\n",
      "2:  (82080, 47)\n"
     ]
    },
    {
     "data": {
      "text/plain": [
       "'Walk and meet at Hilton Garden Inn. It is on the right side of the street, close to The Food Emporium.'"
      ]
     },
     "metadata": {},
     "output_type": "display_data"
    },
    {
     "name": "stdout",
     "output_type": "stream",
     "text": [
      "1:  (194720, 47) 0\n",
      "2:  (82080, 47)\n"
     ]
    },
    {
     "data": {
      "text/plain": [
       "\"Travel to arrive at the garden. It will be near two playgrounds. You've overshot the meeting point if you reach fast_food.\""
      ]
     },
     "metadata": {},
     "output_type": "display_data"
    },
    {
     "name": "stdout",
     "output_type": "stream",
     "text": [
      "1:  (194720, 47) 0\n",
      "2:  (82080, 47)\n"
     ]
    },
    {
     "data": {
      "text/plain": [
       "\"Walk to reach the bicycle parking, on the opposite side of the corner of that block. Meet at the bicycle parking, which is right next to a bus station. You've overshot the meeting point if you reach fast_food.\""
      ]
     },
     "metadata": {},
     "output_type": "display_data"
    },
    {
     "name": "stdout",
     "output_type": "stream",
     "text": [
      "1:  (194720, 47) 0\n",
      "2:  (82080, 47)\n"
     ]
    },
    {
     "data": {
      "text/plain": [
       "\"Meet at the restaurant. Walk North-East and past Magnet Theater (on your right). It will be on your left, near a church. If you pass pharmacy, you've gone too far.\""
      ]
     },
     "metadata": {},
     "output_type": "display_data"
    }
   ],
   "source": [
    "for sample_number in range(len(osm_maps_instructions_manhattan)):\n",
    "  osm_map, _, landmarks, entity = osm_maps_instructions_manhattan[sample_number]\n",
    "  if entity.geo_features['intersections']:\n",
    "\n",
    "    rvs_entity = templates.generate_instruction(entity,gen_templates)\n",
    "    # if not rvs_entity:\n",
    "    #   print(sample_number)\n",
    "\n",
    "    #   continue\n",
    "\n",
    "\n",
    "    synth_instructions = rvs_entity.instructions\n",
    "\n",
    "    display(synth_instructions)\n",
    "\n",
    "    osm_map\n",
    "\n",
    "    # break\n",
    "\n",
    "\n",
    "# 423\n",
    "# 455"
   ]
  }
 ],
 "metadata": {
  "kernelspec": {
   "display_name": "rvs",
   "language": "python",
   "name": "python3"
  },
  "language_info": {
   "codemirror_mode": {
    "name": "ipython",
    "version": 3
   },
   "file_extension": ".py",
   "mimetype": "text/x-python",
   "name": "python",
   "nbconvert_exporter": "python",
   "pygments_lexer": "ipython3",
   "version": "3.8.15"
  },
  "orig_nbformat": 4
 },
 "nbformat": 4,
 "nbformat_minor": 2
}
